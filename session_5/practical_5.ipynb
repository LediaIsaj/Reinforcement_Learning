{
 "cells": [
  {
   "cell_type": "markdown",
   "metadata": {
    "deletable": false,
    "editable": false
   },
   "source": [
    "# [M2-AI-Univ. Paris Saclay] Direct Policy Search\n",
    "\n",
    "In this practical, you are asked to put what you just learnt\n",
    "about direct policy search. \n",
    "\n",
    "\n",
    "In this project, you are asked to solve the classic Mountain Car (https://gym.openai.com/envs/MountainCar-v0/). For more details about action and observation space, please refer to the OpenAI\n",
    "documentation here: https://github.com/openai/gym/wiki/MountainCar-v0"
   ]
  },
  {
   "cell_type": "code",
   "execution_count": null,
   "metadata": {
    "deletable": false,
    "editable": false
   },
   "outputs": [],
   "source": [
    "import sys\n",
    "import gym\n",
    "import numpy as np"
   ]
  },
  {
   "cell_type": "markdown",
   "metadata": {
    "deletable": false,
    "editable": false
   },
   "source": [
    "## 1. Discrete Action Spaces\n",
    "\n",
    "You are expected to implement direct policy search algorithm using Black-Box optimization algoritms (evolutionary computation: CMA-ES, differential evolution: scipy.optimize). We are in the setting of model free approach.\n",
    "\n",
    "In order to efficienlty train your agent, you must (ref. page 58; Michèle's slides):\n",
    "* Define your search space (policy space in which your are willing to search for)\n",
    "* Define your objective function: to assess a policy (Episode-based or step based)\n",
    "* Optimize the objective using balck-box optimizer (cma-es: use https://pypi.org/project/cma/ ; differential evolution: https://docs.scipy.org/doc/scipy/reference/generated/scipy.optimize.differential_evolution.html)\n",
    "\n",
    "Complete Agent Class:\n",
    "1. `train` method: for optimizing the objective function to get optimal policy\n",
    "2. `act` method: use optimal policy to output action for each state\n"
   ]
  },
  {
   "cell_type": "code",
   "execution_count": null,
   "metadata": {},
   "outputs": [],
   "source": [
    "## Your import ?\n",
    "import cma\n",
    "\n",
    "class Agent:\n",
    "    def __init__(self):\n",
    "        \"\"\"\n",
    "        Init a new agent.\n",
    "        \"\"\"\n",
    "        pass\n",
    "\n",
    "    def train(self):\n",
    "        \"\"\"\n",
    "        Learn your policy.\n",
    "\n",
    "        Possible action: [0, 1, 2]\n",
    "        Range observation (tuple):\n",
    "            - position: [-1.2, 0.6]\n",
    "            - velocity: [-0.07, 0.07]\n",
    "        \"\"\"\n",
    "        # 1- Define state features\n",
    "        # 2- Define search space (to define a policy)\n",
    "        # 3- Define objective function (for policy evaluation)\n",
    "        # 4- Optimize the objective function\n",
    "        # 5- Save optimal policy\n",
    "\n",
    "        # This is an example\n",
    "        def objective_function(policy):\n",
    "            total = 0\n",
    "            env = gym.make(\"MountainCar-v0\")\n",
    "            env.seed(np.random.randint(1000))\n",
    "            state = env.reset()\n",
    "            done = False\n",
    "            while not done:\n",
    "                action = np.random.choice([0, 1, 2]) # random action :/\n",
    "                state, reward, done, info = env.step(action)\n",
    "                total += -1\n",
    "            return - total # loss\n",
    "        \n",
    "        policy_opt, _ = cma.fmin2(objective_function, np.zeros(2), 0.5)\n",
    "\n",
    "        \n",
    "    def act(self, observation):\n",
    "        \"\"\"\n",
    "        Acts given an observation of the environment (using learned policy).\n",
    "\n",
    "        Takes as argument an observation of the current state, and\n",
    "        returns the chosen action.\n",
    "        See environment documentation: https://github.com/openai/gym/wiki/MountainCar-v0\n",
    "        Possible action: [0, 1, 2]\n",
    "        Range observation (tuple):\n",
    "            - position: [-1.2, 0.6]\n",
    "            - velocity: [-0.07, 0.07]\n",
    "        \"\"\"\n",
    "        return np.random.choice([0, 1, 2])"
   ]
  },
  {
   "cell_type": "code",
   "execution_count": null,
   "metadata": {
    "deletable": false,
    "editable": false
   },
   "outputs": [],
   "source": [
    "agent = Agent()\n",
    "agent.train()"
   ]
  },
  {
   "cell_type": "markdown",
   "metadata": {},
   "source": [
    "### Testing\n",
    "\n",
    "Run simulation to test your trained agent."
   ]
  },
  {
   "cell_type": "code",
   "execution_count": null,
   "metadata": {},
   "outputs": [],
   "source": [
    "niter = 5000"
   ]
  },
  {
   "cell_type": "code",
   "execution_count": null,
   "metadata": {
    "deletable": false,
    "editable": false
   },
   "outputs": [],
   "source": [
    "env = gym.make(\"MountainCar-v0\").env\n",
    "env.seed(np.random.randint(1, 1000))\n",
    "env.reset()\n",
    "\n",
    "try:\n",
    "    for _ in range(1, niter+1):\n",
    "        sys.stdout.flush()\n",
    "        action = agent.act(env.state)\n",
    "        state, reward, done, info = env.step(action)\n",
    "\n",
    "        # update the visualization\n",
    "        env.render()\n",
    "\n",
    "        # check for rewards\n",
    "        if state[0] >= 0.5:\n",
    "            print(\"\\rTop reached at t = {}\".format(_))\n",
    "            break\n",
    "        elif  _ == niter:\n",
    "            print(\"\\rFailed to reach the top\")\n",
    "finally:\n",
    "    env.close()"
   ]
  },
  {
   "cell_type": "markdown",
   "metadata": {
    "deletable": false,
    "editable": false
   },
   "source": [
    "## 2. Continuous Action Spaces\n",
    "\n",
    "Unlike MountainCar v0, the action (engine force applied) is allowed to be a continuous value. The goal is to find optimal policy using Direct Search Algorithm while allowing continuous actions."
   ]
  },
  {
   "cell_type": "code",
   "execution_count": null,
   "metadata": {},
   "outputs": [],
   "source": [
    "## Your import ?\n",
    "import cma\n",
    "\n",
    "class AgentContinuous:\n",
    "    def __init__(self):\n",
    "        \"\"\"\n",
    "        Init a new agent.\n",
    "        \"\"\"\n",
    "        pass\n",
    "\n",
    "    def train(self):\n",
    "        \"\"\"\n",
    "        Learn your policy.\n",
    "\n",
    "        Possible action: real\n",
    "        Range observation (tuple):\n",
    "            - position: [-1.2, 0.6]\n",
    "            - velocity: [-0.07, 0.07]\n",
    "        \"\"\"\n",
    "        \n",
    "        def objective_function(policy):\n",
    "            total = 0\n",
    "            env = gym.make(\"MountainCarContinuous-v0\")\n",
    "            env.seed(np.random.randint(1000))\n",
    "            state = env.reset()\n",
    "            done = False\n",
    "            while not done:\n",
    "                action = [np.random.uniform(-1, 1)] # random action :/\n",
    "                state, reward, done, info = env.step(action)\n",
    "                total += -1\n",
    "            return - total # loss\n",
    "        \n",
    "        policy_opt, _ = cma.fmin2(objective_function, np.zeros(2), 0.5)\n",
    "\n",
    "        \n",
    "    def act(self, observation):\n",
    "        \"\"\"\n",
    "        Acts given an observation of the environment (using learned policy).\n",
    "\n",
    "        Takes as argument an observation of the current state, and\n",
    "        returns the chosen action.\n",
    "        See environment documentation: https://github.com/openai/gym/wiki/MountainCar-v0\n",
    "        Possible action: real\n",
    "        Range observation (tuple):\n",
    "            - position: [-1.2, 0.6]\n",
    "            - velocity: [-0.07, 0.07]\n",
    "        \"\"\"\n",
    "        return [np.random.uniform(-1, 1)]"
   ]
  },
  {
   "cell_type": "code",
   "execution_count": null,
   "metadata": {},
   "outputs": [],
   "source": [
    "agent_continuous = AgentContinuous()\n",
    "agent_continuous.train()"
   ]
  },
  {
   "cell_type": "markdown",
   "metadata": {
    "deletable": false,
    "editable": false
   },
   "source": [
    "### Testing"
   ]
  },
  {
   "cell_type": "code",
   "execution_count": null,
   "metadata": {},
   "outputs": [],
   "source": [
    "niter = 5000"
   ]
  },
  {
   "cell_type": "code",
   "execution_count": null,
   "metadata": {
    "deletable": false,
    "editable": false
   },
   "outputs": [],
   "source": [
    "env = gym.make(\"MountainCarContinuous-v0\").env\n",
    "env.seed(np.random.randint(1, 1000))\n",
    "env.reset()\n",
    "\n",
    "try:\n",
    "    for _ in range(1, niter+1):\n",
    "        sys.stdout.flush()\n",
    "        action = agent_continuous.act(env.state)\n",
    "        state, reward, done, info = env.step(action)\n",
    "\n",
    "        # update the visualization\n",
    "        env.render()\n",
    "\n",
    "        # check for rewards\n",
    "        if state[0] >= 0.5:\n",
    "            print(\"\\rTop reached at t = {}\".format(_))\n",
    "            break\n",
    "        elif  _ == niter:\n",
    "            print(\"\\rFailed to reach the top\")\n",
    "finally:\n",
    "    env.close()"
   ]
  },
  {
   "cell_type": "markdown",
   "metadata": {
    "deletable": false,
    "editable": false
   },
   "source": [
    "## 3 - Grading\n",
    "Run all cells and send output pdf to heri(at)lri(dot)fr before December, 9th 2020 at 23:59."
   ]
  }
 ],
 "metadata": {
  "celltoolbar": "Éditer les Méta-Données",
  "deletable": false,
  "editable": false,
  "kernelspec": {
   "display_name": "Python 3",
   "language": "python",
   "name": "python3"
  },
  "language_info": {
   "codemirror_mode": {
    "name": "ipython",
    "version": 3
   },
   "file_extension": ".py",
   "mimetype": "text/x-python",
   "name": "python",
   "nbconvert_exporter": "python",
   "pygments_lexer": "ipython3",
   "version": "3.7.4"
  },
  "trusted": true
 },
 "nbformat": 4,
 "nbformat_minor": 2
}
