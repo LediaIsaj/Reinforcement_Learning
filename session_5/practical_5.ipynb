{
  "nbformat": 4,
  "nbformat_minor": 0,
  "metadata": {
    "celltoolbar": "Éditer les Méta-Données",
    "deletable": false,
    "editable": false,
    "kernelspec": {
      "display_name": "Python 3",
      "language": "python",
      "name": "python3"
    },
    "language_info": {
      "codemirror_mode": {
        "name": "ipython",
        "version": 3
      },
      "file_extension": ".py",
      "mimetype": "text/x-python",
      "name": "python",
      "nbconvert_exporter": "python",
      "pygments_lexer": "ipython3",
      "version": "3.8.3"
    },
    "trusted": true,
    "colab": {
      "name": "practical_5.ipynb",
      "provenance": [],
      "collapsed_sections": []
    },
    "accelerator": "GPU"
  },
  "cells": [
    {
      "cell_type": "markdown",
      "metadata": {
        "deletable": false,
        "editable": false,
        "id": "wsqGGZlfUWUm"
      },
      "source": [
        "# [M2-AI-Univ. Paris Saclay] Direct Policy Search\n",
        "\n",
        "In this practical, you are asked to put what you just learnt\n",
        "about direct policy search. \n",
        "\n",
        "\n",
        "In this project, you are asked to solve the classic Mountain Car (https://gym.openai.com/envs/MountainCar-v0/). For more details about action and observation space, please refer to the OpenAI\n",
        "documentation here: https://github.com/openai/gym/wiki/MountainCar-v0"
      ]
    },
    {
      "cell_type": "code",
      "metadata": {
        "deletable": false,
        "editable": false,
        "id": "CS5pjhgbUWUv"
      },
      "source": [
        "import sys\n",
        "import gym\n",
        "import numpy as np"
      ],
      "execution_count": null,
      "outputs": []
    },
    {
      "cell_type": "markdown",
      "metadata": {
        "deletable": false,
        "editable": false,
        "id": "gwdrBBhuUWUw"
      },
      "source": [
        "## 1. Discrete Action Spaces\n",
        "\n",
        "You are expected to implement direct policy search algorithm using Black-Box optimization algoritms (evolutionary computation: CMA-ES, differential evolution: scipy.optimize). We are in the setting of model free approach.\n",
        "\n",
        "In order to efficienlty train your agent, you must (ref. page 58; Michèle's slides):\n",
        "* Define your search space (policy space in which your are willing to search for)\n",
        "* Define your objective function: to assess a policy (Episode-based or step based)\n",
        "* Optimize the objective using balck-box optimizer (cma-es: use https://pypi.org/project/cma/ ; differential evolution: https://docs.scipy.org/doc/scipy/reference/generated/scipy.optimize.differential_evolution.html)\n",
        "\n",
        "Complete Agent Class:\n",
        "1. `train` method: for optimizing the objective function to get optimal policy\n",
        "2. `act` method: use optimal policy to output action for each state\n"
      ]
    },
    {
      "cell_type": "code",
      "metadata": {
        "id": "8a5ea4EeUWUx"
      },
      "source": [
        "## Your import ?\n",
        "import cma\n",
        "import sklearn\n",
        "from sklearn.linear_model import SGDRegressor\n",
        "from sklearn.preprocessing import StandardScaler\n",
        "\n",
        "\n",
        "class Agent:\n",
        "    def __init__(self):\n",
        "        \"\"\"\n",
        "        Init a new agent.\n",
        "        \"\"\"\n",
        "        \n",
        "        self.scaler = StandardScaler()\n",
        "\n",
        "        init_samples = np.array([[np.random.uniform(-1.2, 0.6), np.random.uniform(-0.07, 0.07)] for _ in range(10000)])\n",
        "        self.scaler.fit(init_samples)\n",
        "        \n",
        "    def preprocessing(self, state):\n",
        "        \"\"\"\n",
        "        Returns the featurized representation for a state.\n",
        "        \"\"\"\n",
        "        return self.scaler.transform([state])[0]\n",
        "    \n",
        "\n",
        "    def train(self):\n",
        "        \"\"\"\n",
        "        Learn your policy.\n",
        "\n",
        "        Possible action: [0, 1, 2]\n",
        "        Range observation (tuple):\n",
        "            - position: [-1.2, 0.6]\n",
        "            - velocity: [-0.07, 0.07]\n",
        "        \"\"\"\n",
        "        # 1- Define state features\n",
        "        # 2- Define search space (to define a policy)\n",
        "        # 3- Define objective function (for policy evaluation)\n",
        "        # 4- Optimize the objective function\n",
        "        # 5- Save optimal policy\n",
        "\n",
        "        # This is an example\n",
        "        def objective_function(W):\n",
        "            total = 0\n",
        "            env = gym.make(\"MountainCar-v0\")\n",
        "            env.seed(np.random.randint(1000))\n",
        "            state = self.preprocessing(env.reset())\n",
        "            done = False\n",
        "            while not done:\n",
        "                action = np.argmax(np.dot(state,W.reshape(2,3)))\n",
        "                state, reward, done, info = env.step(action)\n",
        "                state = self.preprocessing(state)\n",
        "                total += -1\n",
        "            return - total # loss\n",
        "        \n",
        "        self.policy_opt, _ = cma.fmin2(objective_function, np.zeros(6), 0.5, restarts = 6)\n",
        "        \n",
        "        \n",
        "    def act(self, state):\n",
        "        \"\"\"\n",
        "        Acts given an observation of the environment (using learned policy).\n",
        "\n",
        "        Takes as argument an observation of the current state, and\n",
        "        returns the chosen action.\n",
        "        See environment documentation: https://github.com/openai/gym/wiki/MountainCar-v0\n",
        "        Possible action: [0, 1, 2]\n",
        "        Range observation (tuple):\n",
        "            - position: [-1.2, 0.6]\n",
        "            - velocity: [-0.07, 0.07]\n",
        "        \"\"\"\n",
        "        state = self.preprocessing(state)\n",
        "        return np.argmax(np.dot(state,self.policy_opt.reshape(2,3)))"
      ],
      "execution_count": null,
      "outputs": []
    },
    {
      "cell_type": "code",
      "metadata": {
        "deletable": false,
        "editable": false,
        "colab": {
          "base_uri": "https://localhost:8080/"
        },
        "id": "1HiCmHtUUWUx",
        "outputId": "9c79a9e0-cbbf-41c1-9724-b45cbd54d731"
      },
      "source": [
        "agent = Agent()\n",
        "agent.train()"
      ],
      "execution_count": null,
      "outputs": [
        {
          "output_type": "stream",
          "text": [
            "(4_w,9)-aCMA-ES (mu_w=2.8,w_1=49%) in dimension 6 (seed=657423, Wed Dec  9 21:55:14 2020)\n",
            "Iterat #Fevals   function value  axis ratio  sigma  min&max std  t[m:s]\n",
            "    1      9 2.000000000000000e+02 1.0e+00 4.35e-01  4e-01  4e-01 0:00.3\n",
            "termination on tolfun=1e-11 (Wed Dec  9 21:55:15 2020)\n",
            "final/bestever f-value = 2.000000e+02 2.000000e+02\n",
            "incumbent solution: [0.010813019890115894, 0.11754680172913808, 0.10295386772446072, 0.08364592535579597, -0.34214063488013957, 0.2255111897433251]\n",
            "std deviation: [0.4344329132295457, 0.39575993093355144, 0.44891544552094487, 0.4342984893115924, 0.41402375082637516, 0.43728485418855884]\n",
            "(9_w,18)-aCMA-ES (mu_w=5.4,w_1=30%) in dimension 6 (seed=657424, Wed Dec  9 21:55:15 2020)\n",
            "Iterat #Fevals   function value  axis ratio  sigma  min&max std  t[m:s]\n",
            "    1     28 1.130000000000000e+02 1.0e+00 4.87e-01  5e-01  5e-01 0:00.5\n",
            "    2     46 1.680000000000000e+02 1.4e+00 5.15e-01  5e-01  5e-01 0:00.9\n",
            "    3     64 1.150000000000000e+02 1.5e+00 6.21e-01  6e-01  7e-01 0:01.4\n",
            "   12    226 1.110000000000000e+02 5.3e+00 1.83e+00  1e+00  3e+00 0:04.5\n",
            "   24    442 1.110000000000000e+02 9.5e+00 3.22e+00  2e+00  7e+00 0:08.8\n",
            "   38    694 1.110000000000000e+02 1.3e+01 5.28e+00  2e+00  1e+01 0:13.9\n",
            "   54    982 1.110000000000000e+02 1.8e+01 3.16e+00  9e-01  7e+00 0:20.0\n",
            "   73   1324 1.110000000000000e+02 3.6e+01 3.72e+00  8e-01  9e+00 0:27.2\n",
            "   83   1504 1.110000000000000e+02 4.4e+01 2.99e+00  7e-01  6e+00 0:30.9\n",
            "termination on tolfunhist=1e-12 after 1 restart (Wed Dec  9 21:55:46 2020)\n",
            "final/bestever f-value = 2.000000e+02 9.000000e+01\n",
            "incumbent solution: [-9.351545979237427, -37.2263116504819, -73.65948473443466, -67.08245145134829, -17.09086806125054, 27.040156288601967]\n",
            "std deviation: [0.6782228868906869, 3.0833268849813167, 5.733642147795096, 5.232539036047279, 1.981100164283855, 2.251172718871913]\n",
            "(18_w,36)-aCMA-ES (mu_w=10.2,w_1=18%) in dimension 6 (seed=657425, Wed Dec  9 21:55:46 2020)\n",
            "Iterat #Fevals   function value  axis ratio  sigma  min&max std  t[m:s]\n",
            "    1   1541 9.400000000000000e+01 1.0e+00 5.37e-01  5e-01  6e-01 0:00.8\n",
            "    2   1577 1.150000000000000e+02 1.4e+00 6.89e-01  6e-01  8e-01 0:01.7\n",
            "    3   1613 9.500000000000000e+01 1.8e+00 8.78e-01  7e-01  1e+00 0:02.5\n",
            "    8   1793 8.500000000000000e+01 2.8e+00 2.99e+00  2e+00  4e+00 0:06.1\n",
            "   15   2045 1.110000000000000e+02 4.8e+00 3.35e+00  2e+00  5e+00 0:10.3\n",
            "   24   2369 1.110000000000000e+02 5.9e+00 5.52e+00  4e+00  7e+00 0:15.5\n",
            "   34   2729 1.110000000000000e+02 1.1e+01 6.07e+00  4e+00  7e+00 0:22.1\n",
            "   45   3125 1.110000000000000e+02 1.5e+01 6.58e+00  4e+00  6e+00 0:29.5\n",
            "   53   3413 1.110000000000000e+02 1.6e+01 6.61e+00  3e+00  6e+00 0:35.0\n",
            "termination on tolfunhist=1e-12 after 2 restarts (Wed Dec  9 21:56:21 2020)\n",
            "final/bestever f-value = 1.880000e+02 8.500000e+01\n",
            "incumbent solution: [13.19196384157797, 2.8904519924369785, -10.424175813438964, -16.49863774208267, -2.7375757863704515, 16.399256734151344]\n",
            "std deviation: [5.728569396042357, 3.4924369141788225, 3.0487591720357705, 5.616255544728249, 3.8815821537138224, 3.087178474937786]\n",
            "(36_w,72)-aCMA-ES (mu_w=19.7,w_1=10%) in dimension 6 (seed=657426, Wed Dec  9 21:56:21 2020)\n",
            "Iterat #Fevals   function value  axis ratio  sigma  min&max std  t[m:s]\n",
            "    1   3486 1.210000000000000e+02 1.0e+00 5.56e-01  5e-01  6e-01 0:01.6\n",
            "    2   3558 1.190000000000000e+02 1.3e+00 6.19e-01  5e-01  7e-01 0:03.4\n",
            "    3   3630 8.700000000000000e+01 1.9e+00 8.33e-01  6e-01  1e+00 0:04.9\n",
            "    6   3846 1.110000000000000e+02 2.8e+00 1.58e+00  1e+00  2e+00 0:09.1\n",
            "   10   4134 1.110000000000000e+02 4.0e+00 1.76e+00  1e+00  2e+00 0:13.7\n",
            "   15   4494 9.300000000000000e+01 6.0e+00 1.59e+00  7e-01  2e+00 0:19.2\n",
            "   21   4926 8.800000000000000e+01 8.4e+00 1.96e+00  1e+00  2e+00 0:25.9\n",
            "   28   5430 8.600000000000000e+01 6.3e+00 1.97e+00  8e-01  1e+00 0:33.8\n",
            "   36   6006 8.700000000000000e+01 1.2e+01 2.51e+00  1e+00  2e+00 0:42.9\n",
            "   45   6654 8.700000000000000e+01 2.1e+01 2.25e+00  6e-01  2e+00 0:52.9\n",
            "   54   7302 8.500000000000000e+01 2.3e+01 2.89e+00  8e-01  2e+00 1:03.1\n",
            "   65   8094 8.500000000000000e+01 3.2e+01 2.38e+00  6e-01  1e+00 1:15.1\n",
            "   77   8958 8.600000000000000e+01 4.1e+01 2.12e+00  3e-01  1e+00 1:28.1\n",
            "   90   9894 8.500000000000000e+01 5.7e+01 2.23e+00  2e-01  9e-01 1:41.2\n",
            "  100  10614 8.500000000000000e+01 8.6e+01 1.77e+00  2e-01  6e-01 1:50.8\n",
            "  108  11190 8.500000000000000e+01 5.6e+01 1.74e+00  2e-01  5e-01 1:58.3\n",
            "termination on tolfunhist=1e-12 after 3 restarts (Wed Dec  9 21:58:19 2020)\n",
            "final/bestever f-value = 8.700000e+01 8.500000e+01\n",
            "incumbent solution: [0.47877044965908333, 1.0310090124304372, 0.0798544449414916, -9.651498229908652, -3.4788363777157447, 1.9656090115681049]\n",
            "std deviation: [0.3457480239428198, 0.32818997964044966, 0.34236438717812584, 0.4841741998297235, 0.2628256740704057, 0.1507358659356664]\n",
            "(72_w,144)-aCMA-ES (mu_w=38.3,w_1=6%) in dimension 6 (seed=657427, Wed Dec  9 21:58:19 2020)\n",
            "Iterat #Fevals   function value  axis ratio  sigma  min&max std  t[m:s]\n",
            "    1  11335 1.020000000000000e+02 1.0e+00 7.01e-01  6e-01  9e-01 0:03.1\n",
            "    2  11479 8.500000000000000e+01 1.9e+00 1.08e+00  9e-01  2e+00 0:05.9\n",
            "    3  11623 8.700000000000000e+01 2.7e+00 1.58e+00  1e+00  2e+00 0:08.7\n",
            "    5  11911 8.600000000000000e+01 3.7e+00 2.17e+00  2e+00  3e+00 0:13.7\n",
            "    7  12199 8.700000000000000e+01 3.9e+00 2.08e+00  1e+00  2e+00 0:18.4\n",
            "   10  12631 8.500000000000000e+01 5.0e+00 1.99e+00  1e+00  2e+00 0:24.7\n",
            "   13  13063 8.500000000000000e+01 5.9e+00 2.26e+00  1e+00  2e+00 0:31.0\n",
            "   17  13639 8.500000000000000e+01 5.5e+00 2.39e+00  1e+00  2e+00 0:39.4\n",
            "   21  14215 8.600000000000000e+01 7.8e+00 2.27e+00  9e-01  2e+00 0:48.0\n",
            "   26  14935 8.500000000000000e+01 1.6e+01 2.41e+00  1e+00  2e+00 0:58.0\n",
            "   31  15655 8.500000000000000e+01 2.9e+01 2.51e+00  1e+00  3e+00 1:08.3\n",
            "   37  16519 8.500000000000000e+01 4.8e+01 2.88e+00  1e+00  3e+00 1:20.2\n",
            "   44  17527 8.500000000000000e+01 6.5e+01 2.90e+00  1e+00  2e+00 1:33.9\n",
            "   45  17671 8.500000000000000e+01 7.7e+01 2.77e+00  1e+00  2e+00 1:35.8\n",
            "termination on tolfunhist=1e-12 after 4 restarts (Wed Dec  9 21:59:55 2020)\n",
            "final/bestever f-value = 8.900000e+01 8.500000e+01\n",
            "incumbent solution: [-4.269724255456393, -3.8379253161918534, -4.738400058857395, -6.090956486460182, 4.4069352592835385, 12.758999361580575]\n",
            "std deviation: [1.1228173719293972, 0.9897496801964575, 1.2228880196063232, 1.0644843140556732, 1.341905064696737, 2.0905708931378064]\n",
            "(144_w,288)-aCMA-ES (mu_w=75.0,w_1=3%) in dimension 6 (seed=657428, Wed Dec  9 21:59:55 2020)\n",
            "Iterat #Fevals   function value  axis ratio  sigma  min&max std  t[m:s]\n",
            "    1  17960 9.300000000000000e+01 1.0e+00 6.21e-01  6e-01  7e-01 0:06.0\n",
            "    2  18248 9.100000000000000e+01 1.6e+00 8.74e-01  7e-01  1e+00 0:11.7\n",
            "    3  18536 8.900000000000000e+01 2.2e+00 1.22e+00  8e-01  1e+00 0:17.0\n",
            "    4  18824 8.700000000000000e+01 3.0e+00 1.61e+00  9e-01  2e+00 0:21.8\n",
            "    5  19112 8.500000000000000e+01 4.4e+00 1.84e+00  1e+00  2e+00 0:26.2\n",
            "    7  19688 8.700000000000000e+01 4.3e+00 2.46e+00  1e+00  2e+00 0:34.5\n",
            "    9  20264 8.800000000000000e+01 5.4e+00 2.57e+00  1e+00  2e+00 0:42.4\n",
            "   11  20840 9.000000000000000e+01 5.1e+00 2.52e+00  1e+00  2e+00 0:51.0\n",
            "   14  21704 8.600000000000000e+01 5.1e+00 2.75e+00  1e+00  2e+00 1:02.6\n",
            "   17  22568 8.600000000000000e+01 7.1e+00 2.75e+00  1e+00  2e+00 1:14.6\n",
            "   20  23432 8.500000000000000e+01 8.6e+00 2.98e+00  1e+00  2e+00 1:26.9\n",
            "   23  24296 8.500000000000000e+01 7.3e+00 2.89e+00  1e+00  2e+00 1:40.1\n",
            "   26  25160 8.500000000000000e+01 1.0e+01 2.74e+00  6e-01  1e+00 1:52.8\n",
            "   28  25736 8.500000000000000e+01 1.3e+01 2.87e+00  5e-01  1e+00 2:00.8\n",
            "termination on tolfunhist=1e-12 after 5 restarts (Wed Dec  9 22:01:56 2020)\n",
            "final/bestever f-value = 1.530000e+02 8.500000e+01\n",
            "incumbent solution: [-0.07669381891484829, 0.3381301678865845, -0.08000081947139567, -6.250839498492925, -2.176377407367031, 1.7602589821977257]\n",
            "std deviation: [1.0906809440668885, 0.6928880624162396, 1.059414852222097, 1.081238529810344, 0.8181212686601934, 0.5084992117324596]\n",
            "(288_w,576)-aCMA-ES (mu_w=147.8,w_1=1%) in dimension 6 (seed=657429, Wed Dec  9 22:01:56 2020)\n",
            "Iterat #Fevals   function value  axis ratio  sigma  min&max std  t[m:s]\n",
            "    1  26313 9.600000000000000e+01 1.0e+00 6.66e-01  6e-01  7e-01 0:11.7\n",
            "    2  26889 9.100000000000000e+01 1.7e+00 1.10e+00  9e-01  1e+00 0:22.9\n",
            "    3  27465 8.900000000000000e+01 2.8e+00 1.73e+00  1e+00  3e+00 0:33.6\n",
            "    4  28041 8.400000000000000e+01 4.1e+00 2.53e+00  2e+00  4e+00 0:43.3\n",
            "    5  28617 8.600000000000000e+01 5.4e+00 3.20e+00  2e+00  5e+00 0:52.5\n",
            "    6  29193 8.700000000000000e+01 4.8e+00 3.76e+00  2e+00  5e+00 1:01.2\n",
            "    7  29769 8.500000000000000e+01 4.5e+00 4.06e+00  2e+00  5e+00 1:09.4\n",
            "    8  30345 8.500000000000000e+01 4.4e+00 4.32e+00  3e+00  5e+00 1:17.5\n",
            "    9  30921 8.500000000000000e+01 5.0e+00 4.75e+00  3e+00  5e+00 1:25.5\n",
            "   11  32073 8.500000000000000e+01 5.3e+00 5.45e+00  3e+00  6e+00 1:45.1\n",
            "   13  33225 8.400000000000000e+01 6.1e+00 6.04e+00  3e+00  6e+00 2:01.4\n",
            "   15  34377 8.500000000000000e+01 7.9e+00 5.98e+00  3e+00  6e+00 2:17.9\n",
            "   17  35529 8.500000000000000e+01 7.4e+00 5.94e+00  2e+00  5e+00 2:34.3\n",
            "   19  36681 8.500000000000000e+01 7.8e+00 6.43e+00  3e+00  5e+00 2:50.3\n",
            "   21  37833 8.500000000000000e+01 9.9e+00 6.65e+00  3e+00  5e+00 3:09.2\n",
            "   23  38985 8.500000000000000e+01 1.2e+01 6.83e+00  3e+00  5e+00 3:24.9\n",
            "termination on tolfunhist=1e-12 after 6 restarts (Wed Dec  9 22:05:21 2020)\n",
            "final/bestever f-value = 9.400000e+01 8.400000e+01\n",
            "incumbent solution: [-3.8218660472599084, -0.26004548561796575, -4.226745243700278, -17.589440469650246, -1.6640440536181225, 17.650476615225422]\n",
            "std deviation: [3.20975525001934, 2.51287657457546, 3.168290748800806, 4.673132612729787, 4.3222460023110685, 5.320238904236402]\n"
          ],
          "name": "stdout"
        }
      ]
    },
    {
      "cell_type": "markdown",
      "metadata": {
        "id": "zQIGOdROUWUz"
      },
      "source": [
        "### Testing\n",
        "\n",
        "Run simulation to test your trained agent."
      ]
    },
    {
      "cell_type": "code",
      "metadata": {
        "id": "73ncYVbsUWUz"
      },
      "source": [
        "niter = 5000"
      ],
      "execution_count": null,
      "outputs": []
    },
    {
      "cell_type": "code",
      "metadata": {
        "deletable": false,
        "editable": false,
        "colab": {
          "base_uri": "https://localhost:8080/"
        },
        "id": "XSTXZFx-UWU0",
        "outputId": "50d35caf-575e-4118-ce54-3ccff276f853"
      },
      "source": [
        "env = gym.make(\"MountainCar-v0\").env\n",
        "env.seed(np.random.randint(1, 1000))\n",
        "env.reset()\n",
        "\n",
        "try:\n",
        "    for _ in range(1, niter+1):\n",
        "        sys.stdout.flush()\n",
        "        action = agent.act(env.state)\n",
        "        state, reward, done, info = env.step(action)\n",
        "\n",
        "        # update the visualization\n",
        "        env.render()\n",
        "\n",
        "        # check for rewards\n",
        "        if state[0] >= 0.5:\n",
        "            print(\"\\rTop reached at t = {}\".format(_))\n",
        "            break\n",
        "        elif  _ == niter:\n",
        "            print(\"\\rFailed to reach the top\")\n",
        "finally:\n",
        "    env.close()"
      ],
      "execution_count": null,
      "outputs": [
        {
          "output_type": "stream",
          "text": [
            "\rTop reached at t = 87\n"
          ],
          "name": "stdout"
        }
      ]
    },
    {
      "cell_type": "markdown",
      "metadata": {
        "deletable": false,
        "editable": false,
        "id": "KVjBroTJUWU1"
      },
      "source": [
        "## 2. Continuous Action Spaces\n",
        "\n",
        "Unlike MountainCar v0, the action (engine force applied) is allowed to be a continuous value. The goal is to find optimal policy using Direct Search Algorithm while allowing continuous actions."
      ]
    },
    {
      "cell_type": "code",
      "metadata": {
        "id": "biJR85EkUWU1"
      },
      "source": [
        "## Your import ?\n",
        "import cma\n",
        "\n",
        "class AgentContinuous:\n",
        "    def __init__(self):\n",
        "        \"\"\"\n",
        "        Init a new agent.\n",
        "        \"\"\"\n",
        "\n",
        "        self.scaler = StandardScaler()\n",
        "\n",
        "        init_samples = np.array([[np.random.uniform(-1.2, 0.6), np.random.uniform(-0.07, 0.07)] for _ in range(10000)])\n",
        "        self.scaler.fit(init_samples)\n",
        "        \n",
        "    def preprocessing(self, state):\n",
        "        \"\"\"\n",
        "        Returns the featurized representation for a state.\n",
        "        \"\"\"\n",
        "        return self.scaler.transform([state])[0]\n",
        "\n",
        "    def train(self):\n",
        "        \"\"\"\n",
        "        Learn your policy.\n",
        "\n",
        "        Possible action: real\n",
        "        Range observation (tuple):\n",
        "            - position: [-1.2, 0.6]\n",
        "            - velocity: [-0.07, 0.07]\n",
        "        \"\"\"\n",
        "        \n",
        "        def objective_function(W):\n",
        "            total = 0\n",
        "            last_pos = []\n",
        "            env = gym.make(\"MountainCarContinuous-v0\")\n",
        "            env.seed(np.random.randint(1000))\n",
        "            state = self.preprocessing(env.reset())\n",
        "            done = False\n",
        "            while not done: \n",
        "                actions = np.dot(state,W.reshape(2,3))\n",
        "                action = [max(actions)]\n",
        "                state, reward, done, info = env.step(action)\n",
        "                state = self.preprocessing(state)\n",
        "                total += -1\n",
        "            return - total # loss\n",
        "        \n",
        "        self.policy_opt, _ = cma.fmin2(objective_function, np.zeros(6), 0.5, restarts = 5)\n",
        "\n",
        "        \n",
        "    def act(self, state):\n",
        "        \"\"\"\n",
        "        Acts given an observation of the environment (using learned policy).\n",
        "\n",
        "        Takes as argument an observation of the current state, and\n",
        "        returns the chosen action.\n",
        "        See environment documentation: https://github.com/openai/gym/wiki/MountainCar-v0\n",
        "        Possible action: real\n",
        "        Range observation (tuple):\n",
        "            - position: [-1.2, 0.6]\n",
        "            - velocity: [-0.07, 0.07]\n",
        "        \"\"\"\n",
        "        state = self.preprocessing(state)\n",
        "        return [max(np.dot(state,self.policy_opt.reshape(2,3)))]"
      ],
      "execution_count": null,
      "outputs": []
    },
    {
      "cell_type": "code",
      "metadata": {
        "id": "FPMpoITpUWU3",
        "colab": {
          "base_uri": "https://localhost:8080/"
        },
        "outputId": "457cc10e-c8e5-4040-dd65-d633f8c27125"
      },
      "source": [
        "agent_continuous = AgentContinuous()\n",
        "agent_continuous.train()"
      ],
      "execution_count": null,
      "outputs": [
        {
          "output_type": "stream",
          "text": [
            "(4_w,9)-aCMA-ES (mu_w=2.8,w_1=49%) in dimension 6 (seed=644014, Wed Dec  9 22:23:30 2020)\n",
            "Iterat #Fevals   function value  axis ratio  sigma  min&max std  t[m:s]\n",
            "    1      9 1.800000000000000e+02 1.0e+00 4.47e-01  4e-01  5e-01 0:00.6\n",
            "    2     18 1.820000000000000e+02 1.2e+00 4.73e-01  5e-01  5e-01 0:00.9\n",
            "    3     27 1.850000000000000e+02 1.4e+00 4.77e-01  4e-01  5e-01 0:01.2\n",
            "   24    216 8.400000000000000e+01 3.4e+00 2.48e+00  2e+00  4e+00 0:04.2\n",
            "   62    558 7.800000000000000e+01 4.8e+00 1.96e+00  1e+00  2e+00 0:08.3\n",
            "  100    900 7.900000000000000e+01 1.1e+01 7.06e+00  2e+00  8e+00 0:12.5\n",
            "  169   1521 7.800000000000000e+01 2.7e+01 1.01e+00  6e-02  9e-01 0:18.5\n",
            "  200   1800 7.900000000000000e+01 5.9e+01 5.81e-01  2e-02  5e-01 0:21.1\n",
            "  216   1944 7.900000000000000e+01 9.2e+01 5.78e-01  2e-02  5e-01 0:22.5\n",
            "termination on tolflatfitness=1 (Wed Dec  9 22:23:53 2020)\n",
            "final/bestever f-value = 8.300000e+01 7.600000e+01\n",
            "incumbent solution: [-0.7928418162878743, 8.802916765383618, 0.1661200640588468, 79.91477677808112, 3.4378872750267275, 38.952372708156716]\n",
            "std deviation: [0.017273052799140553, 0.1705617922430124, 0.11221355639744358, 0.5177656321939844, 0.16325766397481017, 0.511571961091586]\n",
            "(9_w,18)-aCMA-ES (mu_w=5.4,w_1=30%) in dimension 6 (seed=644015, Wed Dec  9 22:23:53 2020)\n",
            "Iterat #Fevals   function value  axis ratio  sigma  min&max std  t[m:s]\n",
            "    1   1963 2.660000000000000e+02 1.0e+00 5.32e-01  5e-01  6e-01 0:00.9\n",
            "    2   1981 1.110000000000000e+02 1.4e+00 6.50e-01  6e-01  8e-01 0:01.6\n",
            "    3   1999 1.030000000000000e+02 1.7e+00 8.82e-01  8e-01  1e+00 0:02.1\n",
            "   16   2233 7.800000000000000e+01 4.1e+00 1.29e+00  1e+00  2e+00 0:05.1\n",
            "   40   2665 8.100000000000000e+01 7.1e+00 5.84e-01  4e-01  7e-01 0:09.2\n",
            "   70   3205 7.700000000000000e+01 1.9e+01 1.86e-01  8e-02  2e-01 0:14.3\n",
            "  100   3745 7.900000000000000e+01 9.4e+01 4.86e-01  3e-01  1e+00 0:19.2\n",
            "  144   4537 8.000000000000000e+01 1.1e+02 5.38e-01  2e-01  6e-01 0:26.3\n",
            "  196   5473 8.100000000000000e+01 2.0e+02 2.93e-01  4e-02  2e-01 0:34.4\n",
            "  200   5545 7.900000000000000e+01 2.5e+02 3.70e-01  5e-02  3e-01 0:35.1\n",
            "  267   6751 7.800000000000000e+01 4.4e+02 9.79e-01  1e-01  5e-01 0:45.2\n",
            "  300   7345 7.700000000000000e+01 6.5e+02 9.56e-01  1e-01  4e-01 0:50.3\n",
            "  377   8731 7.800000000000000e+01 2.5e+03 4.18e-01  6e-02  2e-01 1:02.4\n",
            "  400   9145 7.900000000000000e+01 3.1e+03 4.16e-01  4e-02  2e-01 1:05.8\n",
            "  496  10873 7.800000000000000e+01 4.0e+03 1.65e+00  7e-02  3e-01 1:19.9\n",
            "  500  10945 8.000000000000000e+01 4.3e+03 1.50e+00  7e-02  2e-01 1:20.5\n",
            "  555  11935 8.000000000000000e+01 1.1e+04 4.81e+00  3e-01  8e-01 1:28.8\n",
            "termination on tolstagnation=263 after 1 restart (Wed Dec  9 22:25:22 2020)\n",
            "final/bestever f-value = 8.000000e+01 7.600000e+01\n",
            "incumbent solution: [8.280981245240179, 0.3326398777714173, 6.791228065250285, -2.7359665669639806, 15.401036955026496, -1.1760881528562759]\n",
            "std deviation: [0.7993635046508671, 0.25643081249077737, 0.8357887693220021, 0.5622460057391325, 0.731435240737207, 0.6659750448037206]\n",
            "(18_w,36)-aCMA-ES (mu_w=10.2,w_1=18%) in dimension 6 (seed=644016, Wed Dec  9 22:25:22 2020)\n",
            "Iterat #Fevals   function value  axis ratio  sigma  min&max std  t[m:s]\n",
            "    1  11972 2.860000000000000e+02 1.0e+00 5.87e-01  5e-01  7e-01 0:02.0\n",
            "    2  12008 1.480000000000000e+02 1.5e+00 8.47e-01  8e-01  1e+00 0:03.4\n",
            "    3  12044 8.000000000000000e+01 1.8e+00 1.27e+00  1e+00  1e+00 0:04.3\n",
            "    9  12260 7.700000000000000e+01 2.8e+00 5.53e+00  5e+00  7e+00 0:07.5\n",
            "   22  12728 7.800000000000000e+01 8.0e+00 4.00e+00  8e-01  5e+00 0:11.6\n",
            "   42  13448 7.600000000000000e+01 4.3e+01 2.51e+00  2e-01  3e+00 0:16.6\n",
            "   67  14348 7.700000000000000e+01 3.9e+01 3.13e+00  1e-01  2e+00 0:22.7\n",
            "   96  15392 7.600000000000000e+01 4.9e+01 2.61e+00  6e-02  1e+00 0:29.7\n",
            "  100  15536 7.600000000000000e+01 4.6e+01 3.13e+00  8e-02  1e+00 0:30.7\n",
            "  137  16868 7.600000000000000e+01 1.2e+02 3.57e+00  4e-02  2e+00 0:39.7\n",
            "  179  18380 7.600000000000000e+01 1.7e+02 1.82e+01  2e-01  6e+00 0:49.9\n",
            "  200  19136 7.900000000000000e+01 1.5e+02 2.24e+01  1e-01  5e+00 0:55.1\n",
            "  250  20936 7.600000000000000e+01 5.1e+02 3.70e+01  1e-01  8e+00 1:07.3\n",
            "  300  22736 7.600000000000000e+01 2.1e+03 5.56e+01  3e-01  2e+01 1:19.2\n",
            "  358  24824 7.600000000000000e+01 2.1e+04 7.15e+01  3e-01  3e+01 1:33.2\n",
            "  400  26336 7.500000000000000e+01 4.1e+04 3.56e+01  2e-01  1e+01 1:43.2\n",
            "  468  28784 7.500000000000000e+01 5.4e+04 3.10e+01  4e-02  3e+00 1:59.2\n",
            "  500  29936 7.800000000000000e+01 5.8e+04 1.28e+01  1e-02  8e-01 2:06.8\n",
            "  505  30116 7.700000000000000e+01 5.9e+04 2.06e+01  2e-02  1e+00 2:08.1\n",
            "termination on tolstagnation=263 after 2 restarts (Wed Dec  9 22:27:31 2020)\n",
            "final/bestever f-value = 8.000000e+01 7.500000e+01\n",
            "incumbent solution: [319.648281217208, 261.97725150889124, -3.412323842893658, 10.63892472303505, 64.82107496139561, 258.7407472994877]\n",
            "std deviation: [1.266988192575457, 1.0074791153347826, 0.016762991730033608, 0.07730997605393312, 0.2345917806680726, 0.8825394398550657]\n",
            "(36_w,72)-aCMA-ES (mu_w=19.7,w_1=10%) in dimension 6 (seed=644017, Wed Dec  9 22:27:31 2020)\n",
            "Iterat #Fevals   function value  axis ratio  sigma  min&max std  t[m:s]\n",
            "    1  30189 2.020000000000000e+02 1.0e+00 6.79e-01  6e-01  8e-01 0:03.7\n",
            "    2  30261 9.400000000000000e+01 1.6e+00 1.01e+00  1e+00  1e+00 0:06.5\n",
            "    3  30333 8.200000000000000e+01 2.0e+00 1.64e+00  2e+00  2e+00 0:08.3\n",
            "    6  30549 7.700000000000000e+01 2.6e+00 2.89e+00  3e+00  3e+00 0:11.9\n",
            "   12  30981 7.800000000000000e+01 3.9e+00 4.13e+00  2e+00  4e+00 0:16.2\n",
            "   22  31701 7.800000000000000e+01 9.2e+00 5.80e+00  9e-01  6e+00 0:21.5\n",
            "   35  32637 7.600000000000000e+01 5.9e+01 1.61e+01  9e-01  3e+01 0:27.6\n",
            "   51  33789 7.500000000000000e+01 1.7e+02 3.69e+01  2e+00  8e+01 0:34.7\n",
            "   70  35157 7.600000000000000e+01 3.7e+02 4.36e+01  2e+00  1e+02 0:42.9\n",
            "   92  36741 7.600000000000000e+01 3.3e+02 4.27e+01  1e+00  6e+01 0:52.3\n",
            "  100  37317 7.600000000000000e+01 3.6e+02 5.35e+01  8e-01  6e+01 0:55.8\n",
            "  126  39189 7.600000000000000e+01 1.0e+03 6.50e+01  1e+00  8e+01 1:06.9\n",
            "  154  41205 7.800000000000000e+01 3.5e+03 3.90e+01  9e-01  4e+01 1:19.0\n",
            "  185  43437 7.500000000000000e+01 1.2e+04 4.20e+01  8e-01  4e+01 1:32.3\n",
            "  200  44517 7.600000000000000e+01 2.3e+04 4.06e+01  1e+00  4e+01 1:38.9\n",
            "  236  47109 7.500000000000000e+01 9.8e+04 4.01e+01  2e+00  7e+01 1:54.2\n",
            "  274  49845 7.500000000000000e+01 2.6e+05 2.69e+01  9e-01  3e+01 2:10.6\n",
            "  300  51717 7.600000000000000e+01 5.4e+05 6.69e+01  2e+00  8e+01 2:21.7\n"
          ],
          "name": "stdout"
        },
        {
          "output_type": "stream",
          "text": [
            "/usr/local/lib/python3.6/dist-packages/cma/utilities/utils.py:347: UserWarning: \n",
            "        geno-pheno transformation introduced based on the\n",
            "        current covariance matrix with condition 1.0e+12 -> 1.0e+00,\n",
            "        injected solutions become \"invalid\" in this iteration (class=CMAEvolutionStrategy method=alleviate_conditioning iteration=340)\n",
            "  ')')\n"
          ],
          "name": "stderr"
        },
        {
          "output_type": "stream",
          "text": [
            "  342  54741 7.500000000000000e+01 1.4e+00 6.29e+01  5e+01  6e+01 2:39.8\n",
            "  387  57981 7.600000000000000e+01 3.3e+01 1.77e+02  6e+01  3e+02 2:58.9\n",
            "  400  58917 7.700000000000000e+01 3.6e+01 1.97e+02  8e+01  2e+02 3:04.5\n",
            "  450  62517 7.700000000000000e+01 4.0e+02 1.11e+02  3e+01  1e+02 3:25.8\n",
            "  500  66117 7.500000000000000e+01 1.3e+03 1.08e+02  2e+01  1e+02 3:46.9\n",
            "  555  70077 7.500000000000000e+01 6.3e+03 2.04e+02  1e+01  2e+02 4:10.3\n",
            "  600  73317 7.800000000000000e+01 1.3e+04 2.15e+02  1e+01  1e+02 4:29.4\n",
            "  635  75837 7.600000000000000e+01 4.8e+04 1.90e+02  9e+00  1e+02 4:44.4\n",
            "termination on tolstagnation=263 after 3 restarts (Wed Dec  9 22:32:16 2020)\n",
            "final/bestever f-value = 7.900000e+01 7.500000e+01\n",
            "incumbent solution: [390.3066912901122, -11.54953330436183, 532.7033630229998, -163.3748044181266, 778.5131189537933, 358.7532247072086]\n",
            "std deviation: [58.58081544363217, 137.96665852665538, 73.45051694019735, 10.0025506279262, 9.307829781445122, 113.89919315582063]\n",
            "(72_w,144)-aCMA-ES (mu_w=38.3,w_1=6%) in dimension 6 (seed=644018, Wed Dec  9 22:32:16 2020)\n",
            "Iterat #Fevals   function value  axis ratio  sigma  min&max std  t[m:s]\n",
            "    1  75982 1.750000000000000e+02 1.0e+00 7.42e-01  7e-01  9e-01 0:07.3\n",
            "    2  76126 1.070000000000000e+02 1.8e+00 1.23e+00  1e+00  2e+00 0:12.0\n",
            "    3  76270 7.900000000000000e+01 2.7e+00 1.70e+00  2e+00  2e+00 0:15.7\n",
            "    5  76558 7.900000000000000e+01 3.6e+00 2.74e+00  2e+00  4e+00 0:20.1\n",
            "    8  76990 7.600000000000000e+01 4.1e+00 4.00e+00  2e+00  6e+00 0:24.4\n",
            "   13  77710 7.600000000000000e+01 9.8e+00 6.82e+00  1e+00  1e+01 0:30.2\n",
            "   19  78574 7.600000000000000e+01 3.6e+01 2.21e+01  1e+00  4e+01 0:36.4\n",
            "   27  79726 7.500000000000000e+01 1.1e+02 2.99e+01  7e-01  3e+01 0:43.5\n",
            "   37  81166 7.600000000000000e+01 3.3e+02 6.32e+01  2e+00  1e+02 0:52.1\n",
            "   48  82750 7.500000000000000e+01 2.6e+02 7.29e+01  1e+00  8e+01 1:01.2\n",
            "   60  84478 7.500000000000000e+01 4.4e+02 8.22e+01  1e+00  7e+01 1:11.3\n",
            "   73  86350 7.600000000000000e+01 9.0e+02 8.50e+01  1e+00  6e+01 1:22.3\n",
            "   88  88510 7.500000000000000e+01 1.8e+03 6.98e+01  9e-01  5e+01 1:34.6\n",
            "  100  90238 7.500000000000000e+01 2.2e+03 8.36e+01  1e+00  6e+01 1:44.5\n",
            "  104  90814 7.500000000000000e+01 2.9e+03 7.03e+01  8e-01  4e+01 1:47.9\n",
            "termination on tolfunhist=1e-12 after 4 restarts (Wed Dec  9 22:34:04 2020)\n",
            "final/bestever f-value = 7.800000e+01 7.500000e+01\n",
            "incumbent solution: [264.82331640729745, -5.792519992345409, 43.35248005617032, -137.16907388681358, 450.37584618483555, 198.63101568284733]\n",
            "std deviation: [30.80748793848012, 0.8361045356223836, 6.646751782253547, 23.68649896692334, 43.83316419761218, 26.15471702413178]\n",
            "(144_w,288)-aCMA-ES (mu_w=75.0,w_1=3%) in dimension 6 (seed=644019, Wed Dec  9 22:34:04 2020)\n",
            "Iterat #Fevals   function value  axis ratio  sigma  min&max std  t[m:s]\n",
            "    1  91103 1.260000000000000e+02 1.0e+00 7.83e-01  7e-01  1e+00 0:14.3\n",
            "    2  91391 7.800000000000000e+01 2.2e+00 1.23e+00  1e+00  2e+00 0:24.5\n",
            "    3  91679 7.800000000000000e+01 3.6e+00 1.83e+00  2e+00  3e+00 0:31.3\n",
            "    4  91967 7.700000000000000e+01 4.8e+00 2.43e+00  3e+00  4e+00 0:36.2\n",
            "    5  92255 7.600000000000000e+01 4.8e+00 3.02e+00  3e+00  6e+00 0:40.4\n",
            "    7  92831 7.600000000000000e+01 7.1e+00 4.83e+00  3e+00  1e+01 0:47.3\n",
            "   10  93695 7.600000000000000e+01 1.1e+01 7.07e+00  2e+00  1e+01 0:54.9\n",
            "   14  94847 7.600000000000000e+01 2.4e+01 1.17e+01  1e+00  2e+01 1:03.5\n",
            "   19  96287 7.600000000000000e+01 6.4e+01 1.87e+01  6e-01  4e+01 1:12.1\n",
            "   25  98015 7.600000000000000e+01 1.4e+02 2.44e+01  7e-01  5e+01 1:22.6\n",
            "   31  99743 7.500000000000000e+01 1.9e+02 3.16e+01  1e+00  8e+01 1:33.0\n",
            "   35 100895 7.500000000000000e+01 1.8e+02 3.07e+01  9e-01  6e+01 1:39.3\n",
            "termination on tolfunhist=1e-12 after 5 restarts (Wed Dec  9 22:35:43 2020)\n",
            "final/bestever f-value = 7.800000e+01 7.500000e+01\n",
            "incumbent solution: [-2.7952671023890368, 39.70392016762806, 84.64764354570958, 280.7529461172783, 85.13431461775998, 31.218160381952735]\n",
            "std deviation: [0.9376562262222997, 9.334865488910149, 19.603669144849462, 57.56572530922557, 19.65546610792244, 13.209545734914137]\n"
          ],
          "name": "stdout"
        }
      ]
    },
    {
      "cell_type": "markdown",
      "metadata": {
        "deletable": false,
        "editable": false,
        "id": "XjYgqF4DUWU4"
      },
      "source": [
        "### Testing"
      ]
    },
    {
      "cell_type": "code",
      "metadata": {
        "id": "zbCqXU3IUWU4"
      },
      "source": [
        "niter = 5000"
      ],
      "execution_count": null,
      "outputs": []
    },
    {
      "cell_type": "code",
      "metadata": {
        "deletable": false,
        "editable": false,
        "id": "sAHBt-yzUWU4",
        "colab": {
          "base_uri": "https://localhost:8080/"
        },
        "outputId": "f0a9d1b0-67c0-4e84-dab1-2df290d3608a"
      },
      "source": [
        "env = gym.make(\"MountainCarContinuous-v0\").env\n",
        "env.seed(np.random.randint(1, 1000))\n",
        "env.reset()\n",
        "\n",
        "try:\n",
        "    for _ in range(1, niter+1):\n",
        "        sys.stdout.flush()\n",
        "        action = agent_continuous.act(env.state)\n",
        "        state, reward, done, info = env.step(action)\n",
        "\n",
        "        # update the visualization\n",
        "        env.render()\n",
        "\n",
        "        # check for rewards\n",
        "        if state[0] >= 0.5:\n",
        "            print(\"\\rTop reached at t = {}\".format(_))\n",
        "            break\n",
        "        elif  _ == niter:\n",
        "            print(\"\\rFailed to reach the top\")\n",
        "finally:\n",
        "    env.close()"
      ],
      "execution_count": null,
      "outputs": [
        {
          "output_type": "stream",
          "text": [
            "\rTop reached at t = 79\n"
          ],
          "name": "stdout"
        }
      ]
    },
    {
      "cell_type": "markdown",
      "metadata": {
        "deletable": false,
        "editable": false,
        "id": "aIJbI0TYUWU5"
      },
      "source": [
        "## 3 - Grading\n",
        "Run all cells and send output pdf to heri(at)lri(dot)fr before December, 9th 2020 at 23:59."
      ]
    }
  ]
}